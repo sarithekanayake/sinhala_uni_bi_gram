{
 "cells": [
  {
   "cell_type": "code",
   "execution_count": 12,
   "metadata": {},
   "outputs": [],
   "source": [
    "bihara_dict = {\n",
    "    'Title': 'Shrungaaraya   Mahinda My3 Ranil ;-)',\n",
    "    'View_Count': '2738691', \n",
    "    'Likes': '5350',\n",
    "    'DisLikes': '1733', \n",
    "    'VideoID': 'uJRG1512ygc', \n",
    "    'Comment': ['පට්ට බං වහල්ලුන්ට තද වෙලා 😂😂', 'මොනා උනත් උ ජාතක කරපු අයගෙ වැරදි තමයි ඉතින් රට බෙර ගත්තු නායකට මෙ අපහස කරන්නේ තොපි වගේ අඩු කුලේ පර හැත්ත තවත් සිටිද ඇ හිකි හිකි හිකි හිකි ☝️☝️☝️☝️', 'බල්ලන්ගේ වැඩ කේලේහේ ගුනු දන්නේ පර බල්ලේ', 'අනේ තොට සුන්ගාරය ගන්න තිබුනා යුද්දේ තිබුනානම් මෝඩ ගොන් හරක් ඒ මනුස්සයගේ පයට පැගෙන දුවිල්ල උබලා වටින්නෙ නැහැ', 'ඒකනන් පට්ට බං', 'Mawa හදනව unga ඇඟිලි kadanna ඕනි  මිනිසුන්ට mada ගහන්න හොඳ නැහැ  ma විදිහට  ..', 'Samanaluntanam hari sathutu ethi😂😂', 'මාව subscribe කරන හැම\\u200cෙදනාම මම subscribe කරනවා\\n100% trusted , subscribe කරල comment 1 අනිවා\\nදාගෙන යන්න ,දැකපු ගමන් මම subscribe  කරනවා\\n(මම subscribe නොකරුවොත් ඔයාලට පුලුවන්\\nunsubscribe  කරන්න ) අපි එකතු \\u200cෙවලා subscribe 5000ක්\\nහදා ගමු bro ලා...thanks for all !!!', 'පට්ටයි කොල්ලෝ ❤❤', 'අම්මෝ😂', 'කෝමේකෙ අර බොරැවට වුඩබුරන කනිතුල්බල්ල ,අඩුව මොකද ජෙප්පන්ගෙ වැඩනේද..', 'අපේ සුපිරි ක්\\u200dරිකට් තරු සහ ඔවුන්ගේ සුරූපී බිරියන්...          https://youtu.be/wFtO9oXQIKg', 'උපහාසයට නොව අපහාසයට ලක්කිරිමක් යකෝ😀😀😀', 'හොදට තේරුම් අරන් තියනවා අපේ අප්පච්චිට  ඕන නැටුමකට ඔට්ටුයි කියලායි සමනලයෙකුත් නෙවෙඉ  තාමත් වැඩ පුලුවන් කියලා තේරුම්  ගත්තට ගොඩාආආආඅක් ස්තුති', 'pattama lassanai aaa welldone bro', 'These dogs soo good', 'Elam bro', 'Piumi & kaushi th add una nam patta machooo 👍', 'ගතියක් තියෙනවා .හොදයි .', 'මේවා හදපු උන්ට හෙන ගහන්න ඕන..', 'lankave\"gon\"video', 'ලස්සනට කරලා තියෙනවා', 'aiyo mkda me', 'Mahinda mahathage rupe nethi unanam hodai anith ewntanam a de gelapenawamai 100/100kma', 'මෙක දාපු..කාලකණ්ණි යා...කවුද', 'Kowalski\\n\\n\\n\\n\\n\\n\\nkalakanni  para ballo .dapan u be ammage deewal.', 'Sri.Lankanmanikandan2020💺🤴🦁🦁🦁🦁🦁🦁🦁🦁🦁🦁🦁🦁🦁🦁🦁❇❇❇❇✴✴✴✴✴✴✴✴✴✴✴✴✡✡🕉🤴💺', 'all are sri lanka`s clowns', 'ඔක්කොම අවුලක් ne ban eth මහින්ද මහත්තයා ගත්ත එක set wen ne ban රට bereagaththa miniha mona වැරැදි තිබුණත්', 'aka patta bro patteta😘😘😘😘', 'aiyooo ane ai me baninne? fun ekatane danne.... gd job guy... funny one', '😂😂😂😂😂😂  අයියෝ   ලස්සනයි', 'අඩුකුලේ පරහැත්ත තමයි මේ විදියට අපහස කරන්නේ රෝඩියෝ .අහිකුණ්ඨිකයන්', 'Supiri 😂😂😂', 'Ammooo eka', 'Niyamai... ape rata gena katha krl vadak ne..👏👏👏', '😂😂😂 දෙන්නටම මඩ ගහලා', 'එල් එල් ඕයි.ගැම්ම', '😂😂😂😂😂😂', 'mara lassanai', 'Dancers all one poudumay😂😈😨😤', 'MAWAH THAMAI LANKAWEH RAJEA DANCE 2018 ALA ALA', 'Mula amataka krapu musala hatta', 'kauri monawa kiuwath me rara mahinda rajura bara wewa', 'ඔබට ජයෙන් ජය බුදු සරණයි. https://goo.gl/Zfj1hZ', 'කවුරු උනත් මිනිසුන් ඒ අය කරපු දේවල් ඒ අයට තියෙයි අනික මේ අය අතර රටට සේවයක් කරපු අයත් ඉන්නවා රට ආපයකින් බේරගත්ත අයත් ඉන්නවා වැරදි දාහක් අස්සෙ එක හොදක් හරි දකින්න පුරුදු වෙන්න මිනිසුන්ට අපහාස කරලා මඩ ගහලා අකුසල් පුරවගන්න එපා ඒක මහ පවක්', 'Meka num naraka vadak', 'Thendi patty puri mon', 'Karapu eka ponnayek', 'Shok ane oyala...', 'me wage dewal dana un hire daanna uni..', 'පට්ට ආතල් එකක් 0777192697', 'www.bruise lee', 'kalakanni para ballo dapan ube ammage deewal ..pakya.', 'Top', 'If \\n X', 'daru senr', 'balako ape janapati mhinda koma haduwath handi...😍😍😍', '😂😂😂😂', 'පවිකාරයින්ගේ  පවි  වැඩ', 'Hahahahaha', 'චාටර් බන්', 'නරක. වැඩක්', 'Athal bn meka.....', '😢😢😢😢😢', 'supri ea', 'Ammoo aka', 'meka hadapu video edit soffweya eke nama mokakda bn', 'නියමයි.හලෝ.එචිචර.චාටර්.නැ.', 'Super 😥😥😥😥', 'mun honda naha tamar aath oya widiyata waradi kiyana eka tamage pahathkama pradarsanaya kireemak. ....', '😂😂😂😂', \"Mahenda ayi Anna dalda malegwa Ra's padennda modya\", 'hitagena\"\"ati\"loku\"         vadak\"\"kare\"kiya\"metana\"inna\"eka\"amati\"\"kenek\"karapu\"deyak\"oyalata\"karanna\"puluvanda\"vikara\"ova\"\"\"\"\"\"\"da\"gnnawa\"\"ara\"sunil\"pererata', 'Kohomath mahinda weddek thamai', 'ponna kariyo ammata hukanna kiyahan hadapu ekage ammata polimak danna ennam', 'Ane melody eka godak lassanai.me melody eka thiyena song ekak thiyenawada', 'Ammo eka', '\\u2063තද  තද', 'ලබකත්', 'එල එල', 'very nice song, කොහොමද මේක https://youtu.be/aU7I0v0muns', 'danne akak thibbama nadde yakoo', 'Rani kuwat niyamai wauuuuuuuuuuu😙😙😙😙😙😙😙😙😙😆😗😆😆😆😆🌹🌹🌹🌹🌹🌹🌹🌹🌹🌹👍👍👍👍👍👍👍👍👍👍👍👍💪💪💪💪💪💪', 'Hahaha', 'Siresanaapai  pradana dancer', 'mara hina brooo', 'tho pilawa yuddayan bara gattha charithawalata mahemadasalakanne', 'He hee 😂😂😂😂', '👌👌👌👌👌👌👌', 'horahatekre-ratakapuyakku', 'Nidahase jewath wenna rata berala  deviyek wage minisekuta mewage apahasa karana unge amma appath mewagem apahasayata lakwenawata kemathi athi buru weda karanna epa manussayek wela', 'Vimal viravanshaya mn ekata gala penava', 'Apith hoyanne sungaraya awul karapu ekawai', 'JVP   thamay meyalage katu kala abarila enne', 'mula amathaka wela wage thopita neeee', 'සුපිරි.........', 'Ane mandanne ne', 'ana manda😑😑😑😑😑😑', 'Kawda meka haduwa ponaya.minissunta mada gahanna apa..ponnaya..'], \n",
    "    '_id': '5d9ad961112acd12bffdf83d'\n",
    "}\n",
    "\n",
    "comments = bihara_dict.get('Comment')\n",
    "print (comments[0])"
   ]
  },
  {
   "cell_type": "code",
   "execution_count": 17,
   "metadata": {},
   "outputs": [
    {
     "name": "stdout",
     "output_type": "stream",
     "text": [
      "පට්ට බං වහල්ලුන්ට තද වෙලා 😂😂\n"
     ]
    }
   ],
   "source": []
  },
  {
   "cell_type": "code",
   "execution_count": null,
   "metadata": {},
   "outputs": [],
   "source": []
  }
 ],
 "metadata": {
  "kernelspec": {
   "display_name": "Python 3",
   "language": "python",
   "name": "python3"
  },
  "language_info": {
   "codemirror_mode": {
    "name": "ipython",
    "version": 3
   },
   "file_extension": ".py",
   "mimetype": "text/x-python",
   "name": "python",
   "nbconvert_exporter": "python",
   "pygments_lexer": "ipython3",
   "version": "3.7.1"
  }
 },
 "nbformat": 4,
 "nbformat_minor": 2
}
